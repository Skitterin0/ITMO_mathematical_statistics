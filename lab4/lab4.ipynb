{
 "cells": [
  {
   "cell_type": "markdown",
   "source": [
    "# Вариант 1"
   ],
   "metadata": {
    "collapsed": false
   }
  },
  {
   "cell_type": "code",
   "execution_count": 7,
   "metadata": {
    "collapsed": true,
    "ExecuteTime": {
     "end_time": "2023-06-06T09:06:04.121495200Z",
     "start_time": "2023-06-06T09:06:04.044342800Z"
    }
   },
   "outputs": [],
   "source": [
    "import pandas as pd\n",
    "import matplotlib.pyplot as plt\n",
    "import numpy as np\n",
    "# task 1\n",
    "from scipy.stats import shapiro, kstest\n",
    "# task 2, 3\n",
    "from scipy.stats import ttest_ind, mannwhitneyu\n",
    "\n",
    "alpha = 0.05"
   ]
  },
  {
   "cell_type": "markdown",
   "source": [
    "# Задание 1"
   ],
   "metadata": {
    "collapsed": false
   }
  },
  {
   "cell_type": "markdown",
   "source": [
    "Посмотрим, как распределились баллы за тест по математике"
   ],
   "metadata": {
    "collapsed": false
   }
  },
  {
   "cell_type": "code",
   "execution_count": 8,
   "outputs": [
    {
     "data": {
      "text/plain": "<Figure size 640x480 with 1 Axes>",
      "image/png": "[encoded data removed]"
     },
     "metadata": {},
     "output_type": "display_data"
    }
   ],
   "source": [
    "data = pd.read_csv(\"exams_dataset.csv\")\n",
    "plt.hist(data[\"math score\"], bins=20)\n",
    "plt.ylabel(\"Количество учеников\")\n",
    "plt.xlabel(\"Количество баллов\")\n",
    "plt.title(\"Распределение баллов по математике\")\n",
    "plt.show()"
   ],
   "metadata": {
    "collapsed": false,
    "ExecuteTime": {
     "end_time": "2023-06-06T09:06:04.508047300Z",
     "start_time": "2023-06-06T09:06:04.059153700Z"
    }
   }
  },
  {
   "cell_type": "markdown",
   "source": [
    "Формально наша задача звучит следующи образом:\n",
    "# $H_0$: Результаты по математике имеют нормальное распределение\n",
    "# $H_1$: Результаты по математике нельзя приблизить нормальным распределением"
   ],
   "metadata": {
    "collapsed": false
   }
  },
  {
   "cell_type": "markdown",
   "source": [
    "для решения задачи воспользуемся Критерием Шапиро-Уилка и Критерием Колмогорова-Смирнова"
   ],
   "metadata": {
    "collapsed": false
   }
  },
  {
   "cell_type": "code",
   "execution_count": 9,
   "outputs": [
    {
     "name": "stdout",
     "output_type": "stream",
     "text": [
      "По критерию Шапиро-Уилка:\n",
      "Не принимаем нулевую гипотезу\n",
      "ShapiroResult(statistic=0.9937615394592285, pvalue=0.0003466971102170646)\n",
      "\n",
      "По критерию Колмогорова-Смирнова:\n",
      "KstestResult(statistic=0.999, pvalue=0.0, statistic_location=11, statistic_sign=-1)\n",
      "Используя стандартные мат ожидание и диперсию в качестве параметров нормального распределения: Принимаем альтернативную гипотезу\n",
      "KstestResult(statistic=0.02630185637845328, pvalue=0.48534977439991145, statistic_location=71, statistic_sign=-1)\n",
      "Используя высчитанные мат ожидание и дисперсию в качестве параметров нормального распределения: Принимам нулевую гипотезу\n"
     ]
    }
   ],
   "source": [
    "math_data = data[\"math score\"]\n",
    "\n",
    "\n",
    "print(\"По критерию Шапиро-Уилка:\")\n",
    "\n",
    "sw_test = shapiro(math_data)\n",
    "if sw_test.pvalue > alpha:\n",
    "    print(\"Принимам нулевую гипотезу\")\n",
    "else:\n",
    "    print(\"Не принимаем нулевую гипотезу\")\n",
    "\n",
    "print(\"\\nПо критерию Колмогорова-Смирнова:\")\n",
    "\n",
    "ks_test = kstest(math_data, \"norm\")\n",
    "\n",
    "prefix = \"Используя стандартные мат ожидание и диперсию в качестве параметров нормального распределения: \"\n",
    "if ks_test.pvalue > alpha:\n",
    "    postfix = \"Принимам нулевую гипотезу\"\n",
    "else:\n",
    "    postfix = \"Принимаем альтернативную гипотезу\"\n",
    "print(prefix + postfix)\n",
    "\n",
    "\n",
    "ks_test = kstest(math_data, \"norm\", args=(np.mean(math_data), np.std(math_data)))\n",
    "\n",
    "prefix = \"Используя высчитанные мат ожидание и дисперсию в качестве параметров нормального распределения: \"\n",
    "if ks_test.pvalue > alpha:\n",
    "    postfix = \"Принимам нулевую гипотезу\"\n",
    "else:\n",
    "    postfix = \"Принимаем альтернативную гипотезу\"\n",
    "print(prefix + postfix)"
   ],
   "metadata": {
    "collapsed": false,
    "ExecuteTime": {
     "end_time": "2023-06-06T09:06:04.653487700Z",
     "start_time": "2023-06-06T09:06:04.510604700Z"
    }
   }
  },
  {
   "cell_type": "markdown",
   "source": [
    "  Если запустить код, можно заметить, что результаты тестов различились. Критерий Шапиро-Уилка и Критерий Колмогорова-Смирнова без параметра $args$ показали, что оценки нельзя апроксимировать нормальным распределеним, а Критерий Колмогорова-Смирнова с указанным параметром $args$ показал обратный результат.\n",
    "\n",
    "  Объяснить это можно тем, что первые два теста в качестве распределения используют $N(0, 1)$, которые не позволяют нам приблизить результаты распределений"
   ],
   "metadata": {
    "collapsed": false
   }
  },
  {
   "cell_type": "code",
   "execution_count": 10,
   "outputs": [
    {
     "name": "stdout",
     "output_type": "stream",
     "text": [
      "Выборочное среднее: 65.802\n",
      "Выборочная дисперсия: 16.272455131294723\n"
     ]
    }
   ],
   "source": [
    "print(f\"Выборочное среднее: {np.mean(data['math score'])}\")\n",
    "print(f\"Выборочная дисперсия: {np.std(data['math score'])}\")"
   ],
   "metadata": {
    "collapsed": false,
    "ExecuteTime": {
     "end_time": "2023-06-06T09:06:04.654488100Z",
     "start_time": "2023-06-06T09:06:04.539125400Z"
    }
   }
  },
  {
   "cell_type": "markdown",
   "source": [
    "# Задание 2\n",
    "Поставим условие нашей задачи более формально\n",
    "# $H_0$: Результаты по чтению и письменной принципиально не отличаются\n",
    "# $H_1$: Результаты по чтению и письменной части отличаются"
   ],
   "metadata": {
    "collapsed": false
   }
  },
  {
   "cell_type": "markdown",
   "source": [
    "Для решения задачи воспользуемся t-Критерием Стьюдента и U-критерием Манна-Уитни"
   ],
   "metadata": {
    "collapsed": false
   }
  },
  {
   "cell_type": "code",
   "execution_count": 13,
   "outputs": [
    {
     "name": "stdout",
     "output_type": "stream",
     "text": [
      "По t-критерию Стьюдента: \n",
      "Принимаем нулевую гипотезу\n",
      "\n",
      "По U-критерию Манна-Уитни\n",
      "Принимаем нулевую гипотезу\n",
      "\n",
      "Ttest_indResult(statistic=1.5383891898620217, pvalue=0.12411182707182183)\n",
      "MannwhitneyuResult(statistic=518147.5, pvalue=0.1598487858131621)\n"
     ]
    }
   ],
   "source": [
    "reading_data = data[\"reading score\"]\n",
    "writing_data = data[\"writing score\"]\n",
    "\n",
    "\n",
    "print(\"По t-критерию Стьюдента: \")\n",
    "\n",
    "t_test = ttest_ind(reading_data, writing_data)\n",
    "\n",
    "if t_test.pvalue > alpha:\n",
    "    print(\"Принимаем нулевую гипотезу\")\n",
    "else:\n",
    "    print(\"Принимаем альтернативную гипотезу\")\n",
    "\n",
    "\n",
    "print(\"\\nПо U-критерию Манна-Уитни\")\n",
    "\n",
    "u_test = mannwhitneyu(reading_data, writing_data)\n",
    "\n",
    "if u_test.pvalue > alpha:\n",
    "    print(\"Принимаем нулевую гипотезу\")\n",
    "else:\n",
    "    print(\"Принимаем альтернативную гипотезу\")\n",
    "\n",
    "print(f\"\\n{t_test}\\n{u_test}\")"
   ],
   "metadata": {
    "collapsed": false,
    "ExecuteTime": {
     "end_time": "2023-06-06T09:07:21.871714200Z",
     "start_time": "2023-06-06T09:07:21.847488600Z"
    }
   }
  },
  {
   "cell_type": "markdown",
   "source": [
    "Тест сошлись в результате и, судя по ним, между результатами тестов по чтению и письму нет принципиальной разницы"
   ],
   "metadata": {
    "collapsed": false
   }
  },
  {
   "cell_type": "markdown",
   "source": [
    "# Задание 3\n",
    "Поставим условие нашей задачи более формально\n",
    "# $H_0$: Люди, посещавшие курсы, сдали экзамены лучше\n",
    "# $H_1$: Посещение курсов не повлияло на результаты экзамена"
   ],
   "metadata": {
    "collapsed": false
   }
  },
  {
   "cell_type": "markdown",
   "source": [
    "Для решения задачи также воспользуемся t-Критерием Стьюдента и U-критерием Манна-Уитни"
   ],
   "metadata": {
    "collapsed": false
   }
  },
  {
   "cell_type": "code",
   "execution_count": 12,
   "outputs": [
    {
     "name": "stdout",
     "output_type": "stream",
     "text": [
      "По t-критерию Стьюдента: \n",
      "Принимаем альтернативную гипотезу\n",
      "\n",
      "По U-критерию Манна-Уитни\n",
      "Принимаем альтернативную гипотезу\n"
     ]
    }
   ],
   "source": [
    "cols = [\"math score\", \"reading score\", \"writing score\"]\n",
    "courses_grades = data[data[\"test preparation course\"] == \"completed\"][cols].sum(axis=1)\n",
    "self_grades = data[data[\"test preparation course\"] == \"none\"][cols].sum(axis=1)\n",
    "\n",
    "\n",
    "print(\"По t-критерию Стьюдента: \")\n",
    "\n",
    "t_test = ttest_ind(courses_grades, self_grades)\n",
    "\n",
    "if t_test.pvalue > alpha:\n",
    "    print(\"Принимаем нулевую гипотезу\")\n",
    "else:\n",
    "    print(\"Принимаем альтернативную гипотезу\")\n",
    "\n",
    "\n",
    "print(\"\\nПо U-критерию Манна-Уитни\")\n",
    "\n",
    "u_test = mannwhitneyu(courses_grades, self_grades)\n",
    "\n",
    "if u_test.pvalue > alpha:\n",
    "    print(\"Принимаем нулевую гипотезу\")\n",
    "else:\n",
    "    print(\"Принимаем альтернативную гипотезу\")\n",
    "\n"
   ],
   "metadata": {
    "collapsed": false,
    "ExecuteTime": {
     "end_time": "2023-06-06T09:06:04.655488100Z",
     "start_time": "2023-06-06T09:06:04.600703600Z"
    }
   }
  },
  {
   "cell_type": "markdown",
   "source": [
    "Тесты опять таки сошлись в результате, и, судя по их итогам, посещение дополнительных курсов не помогло сдать экзамены"
   ],
   "metadata": {
    "collapsed": false
   }
  }
 ],
 "metadata": {
  "kernelspec": {
   "display_name": "Python 3",
   "language": "python",
   "name": "python3"
  },
  "language_info": {
   "codemirror_mode": {
    "name": "ipython",
    "version": 2
   },
   "file_extension": ".py",
   "mimetype": "text/x-python",
   "name": "python",
   "nbconvert_exporter": "python",
   "pygments_lexer": "ipython2",
   "version": "2.7.6"
  }
 },
 "nbformat": 4,
 "nbformat_minor": 0
}
