{
 "cells": [
  {
   "cell_type": "markdown",
   "source": [
    "# Вариант 1"
   ],
   "metadata": {
    "collapsed": false
   }
  },
  {
   "cell_type": "code",
   "execution_count": 1,
   "metadata": {
    "collapsed": true,
    "ExecuteTime": {
     "end_time": "2023-06-04T15:39:03.540677500Z",
     "start_time": "2023-06-04T15:39:01.307428400Z"
    }
   },
   "outputs": [],
   "source": [
    "import numpy as np\n",
    "import pandas as pd\n",
    "from scipy.stats import t\n",
    "\n",
    "data = pd.read_csv(\"mobile_phones.csv\")\n",
    "\n",
    "X = data[[\"sc_h\", \"sc_w\", \"battery_power\"]]\n",
    "y = data[\"mobile_wt\"].values\n",
    "# Добавим столбец с единицами для свободного коффициента\n",
    "X = np.concatenate((np.ones((X.shape[0], 1), dtype=int), X), axis=1)"
   ]
  },
  {
   "cell_type": "markdown",
   "source": [
    "Посчитаем оценки коэффициентов при помощи формулы $coef = (X^TX)^{-1}X^Ty$\n",
    "Посчитаем остатки модели для дальнейшего расчёт среднеквадратичной ошибки и стандартной ошибки"
   ],
   "metadata": {
    "collapsed": false
   }
  },
  {
   "cell_type": "code",
   "execution_count": 2,
   "outputs": [],
   "source": [
    "coefficients = np.linalg.inv(X.T @ X) @ X.T @ y\n",
    "y_pred = X @ coefficients\n",
    "residuals = y - y_pred\n",
    "\n",
    "n = X.shape[0]\n",
    "k = X.shape[1]\n",
    "mse = np.sum(residuals ** 2) / (n - k)\n",
    "standart_errors = np.sqrt(np.diagonal(mse * np.linalg.inv(X.T @ X)))"
   ],
   "metadata": {
    "collapsed": false,
    "ExecuteTime": {
     "end_time": "2023-06-04T15:39:03.556221Z",
     "start_time": "2023-06-04T15:39:03.542679700Z"
    }
   }
  },
  {
   "cell_type": "markdown",
   "source": [
    "Посчитам коэффициент детерминации, чтобы посмотреть, насколько хорошо наша модель соответствует исходным данным. Для этого найдём Sum of Squares Residual (SS_res) и Sum of Squares Total (SS_tot)"
   ],
   "metadata": {
    "collapsed": false
   }
  },
  {
   "cell_type": "code",
   "execution_count": 3,
   "outputs": [
    {
     "data": {
      "text/plain": "0.0011644496581528774"
     },
     "execution_count": 3,
     "metadata": {},
     "output_type": "execute_result"
    }
   ],
   "source": [
    "SS_res = np.sum((y - y_pred) ** 2)\n",
    "SS_tot = np.sum((y - np.mean(y)) ** 2)\n",
    "r_squared = 1 - SS_res / SS_tot\n",
    "r_squared"
   ],
   "metadata": {
    "collapsed": false,
    "ExecuteTime": {
     "end_time": "2023-06-04T15:39:03.578355500Z",
     "start_time": "2023-06-04T15:39:03.557791700Z"
    }
   }
  },
  {
   "cell_type": "markdown",
   "source": [
    "Можем заметить, что значение $R^2$ близко к нулю, что говорит о том, что наша модель почти не показывает реальной картины"
   ],
   "metadata": {
    "collapsed": false
   }
  },
  {
   "cell_type": "markdown",
   "source": [
    "# Проверка гипотезы 1:\n",
    "# $H_0$: Чем больше высота экран тем больше масса телефона\n",
    "# $H_1$: Масса телефона не зависит от высоты экрана"
   ],
   "metadata": {
    "collapsed": false
   }
  },
  {
   "cell_type": "code",
   "execution_count": 4,
   "outputs": [
    {
     "name": "stdout",
     "output_type": "stream",
     "text": [
      "Отвергаем нулевую гипотезу. Масса не зависит от ширины экрана\n"
     ]
    }
   ],
   "source": [
    "t_stat_sc_h = coefficients[2] / standart_errors[2]\n",
    "p_val_sc_h = 1 - t.cdf(t_stat_sc_h, n - k)\n",
    "alpha = 0.05\n",
    "if p_val_sc_h < alpha:\n",
    "    print(\"Принимаем нулевую гипотезу\")\n",
    "else:\n",
    "    print(\"Отвергаем нулевую гипотезу. Масса не зависит от ширины экрана\")"
   ],
   "metadata": {
    "collapsed": false,
    "ExecuteTime": {
     "end_time": "2023-06-04T15:39:03.588354900Z",
     "start_time": "2023-06-04T15:39:03.573355400Z"
    }
   }
  },
  {
   "cell_type": "markdown",
   "source": [
    "# Проверка гипотезы 2:\n",
    "# $H_0$: Чем шире экран тем больше масса телефона\n",
    "# $H_1$: Масса телефона не зависит от ширины экрана"
   ],
   "metadata": {
    "collapsed": false
   }
  },
  {
   "cell_type": "code",
   "execution_count": 5,
   "outputs": [
    {
     "name": "stdout",
     "output_type": "stream",
     "text": [
      "Отвергаем нулевую гипотезу. Масса не зависит от ширины экрана\n"
     ]
    }
   ],
   "source": [
    "t_stat_sc_w = coefficients[1] / standart_errors[1]\n",
    "p_val_sc_w = 1 - t.cdf(t_stat_sc_w, n - k)\n",
    "alpha = 0.05\n",
    "if p_val_sc_w < alpha:\n",
    "    print(\"Принимаем нулевую гипотезу\")\n",
    "else:\n",
    "    print(\"Отвергаем нулевую гипотезу. Масса не зависит от ширины экрана\")"
   ],
   "metadata": {
    "collapsed": false,
    "ExecuteTime": {
     "end_time": "2023-06-04T15:39:03.602447Z",
     "start_time": "2023-06-04T15:39:03.588354900Z"
    }
   }
  },
  {
   "cell_type": "markdown",
   "source": [
    "# Проверка гипотезы 3:\n",
    "# $H_0$: Масса телефона зависит от ширины экрана и ёмкости аккумулятора\n",
    "# $H_1$: Масса не зависит от этих параметров"
   ],
   "metadata": {
    "collapsed": false
   }
  },
  {
   "cell_type": "code",
   "execution_count": 6,
   "outputs": [
    {
     "name": "stdout",
     "output_type": "stream",
     "text": [
      "Отвергаем нулевую гипотезу. Ширина экрана и ёмкость аккумулятора не влияют на массу\n"
     ]
    }
   ],
   "source": [
    "t_stat_sc_w_battery = coefficients[1:3] / standart_errors[1:3]\n",
    "p_val_sc_w_battery = 2 * (1 - t.cdf(t_stat_sc_h, n - k))\n",
    "alpha = 0.05\n",
    "if p_val_sc_h < alpha:\n",
    "    print(\"Принимаем нулевую гипотезу\")\n",
    "else:\n",
    "    print(\"Отвергаем нулевую гипотезу. Ширина экрана и ёмкость аккумулятора не влияют на массу\")"
   ],
   "metadata": {
    "collapsed": false,
    "ExecuteTime": {
     "end_time": "2023-06-04T15:39:03.614372200Z",
     "start_time": "2023-06-04T15:39:03.602447Z"
    }
   }
  }
 ],
 "metadata": {
  "kernelspec": {
   "display_name": "Python 3",
   "language": "python",
   "name": "python3"
  },
  "language_info": {
   "codemirror_mode": {
    "name": "ipython",
    "version": 2
   },
   "file_extension": ".py",
   "mimetype": "text/x-python",
   "name": "python",
   "nbconvert_exporter": "python",
   "pygments_lexer": "ipython2",
   "version": "2.7.6"
  }
 },
 "nbformat": 4,
 "nbformat_minor": 0
}
