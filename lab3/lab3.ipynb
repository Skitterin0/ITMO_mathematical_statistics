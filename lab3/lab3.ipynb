{
 "cells": [
  {
   "cell_type": "raw",
   "source": [
    "3 Лабораторная, 18 вариант"
   ],
   "metadata": {
    "collapsed": false
   }
  },
  {
   "cell_type": "raw",
   "source": [
    "Задача 1.1"
   ],
   "metadata": {
    "collapsed": false
   }
  },
  {
   "cell_type": "code",
   "execution_count": 1,
   "outputs": [],
   "source": [
    "import numpy as np\n",
    "from scipy.stats import norm\n",
    "\n",
    "# Заданные параметры\n",
    "mu1 = 2\n",
    "mu2 = 1\n",
    "sigma1 = np.sqrt(1)\n",
    "sigma2 = np.sqrt(0.5)\n",
    "tau_true = mu1 - mu2\n",
    "alpha = 0.05\n",
    "\n",
    "n = 25\n",
    "m = 25\n",
    "num_samples = 1000\n",
    "\n",
    "\n",
    "# Функция для генерации выборок\n",
    "def generate_samples():\n",
    "    X = norm.rvs(mu1, sigma1, n)\n",
    "    Y = norm.rvs(mu2, sigma2, m)\n",
    "    return X, Y\n",
    "\n",
    "\n",
    "# Функция для вычисления статистики F\n",
    "def compute_F(X, Y):\n",
    "    return (np.mean(X) - np.mean(Y) - tau_true) / np.sqrt(sigma1**2 / len(X) + sigma2**2 / len(Y))"
   ],
   "metadata": {
    "collapsed": false,
    "ExecuteTime": {
     "start_time": "2023-04-17T00:19:35.942643Z",
     "end_time": "2023-04-17T00:19:36.374715Z"
    }
   }
  },
  {
   "cell_type": "markdown",
   "source": [
    "Для нахождения доверительного интервала найдём квантиль порядка $\\alpha$ и посчитаем границы доверительного интервала по формуле\n",
    "$$(\\bar{X} - \\bar{Y} - q_{1 - \\frac{\\alpha}{2}}\\sigma ; \\bar{X} - \\bar{Y} - q_{\\frac{\\alpha}{2}}\\sigma)$$\n",
    "Поскольку нормальное распределение симметрично относительно $\\mu$, возьмём $q_{1 - \\frac{\\alpha}{2}} = -q_{\\frac{\\alpha}{2}}$"
   ],
   "metadata": {
    "collapsed": false
   }
  },
  {
   "cell_type": "code",
   "execution_count": 2,
   "outputs": [
    {
     "name": "stdout",
     "output_type": "stream",
     "text": [
      "Доверительный интервал уровня 0.95 для n=m=25: (0.529, 1.489)\n",
      "Покрытие истинного значения параметра для n=m=25: 0.948\n",
      "Доверительный интервал уровня 0.95 для n=m=10000: (0.976, 1.024)\n",
      "Покрытие истинного значения параметра для n=m=10000: 0.947\n"
     ]
    }
   ],
   "source": [
    "# Функция для вычисления доверительного интервала\n",
    "def compute_CI(X, Y):\n",
    "    q_alpha = norm.ppf(1 - alpha / 2)\n",
    "\n",
    "    # Воспользуемся симметрией распределения и получим, что\n",
    "    CI = (np.mean(X) - np.mean(Y) - q_alpha * np.sqrt(sigma1**2/n + sigma2**2/m),\n",
    "          np.mean(X) - np.mean(Y) + q_alpha * np.sqrt(sigma1**2/n + sigma2**2/m))\n",
    "    return CI\n",
    "\n",
    "\n",
    "# Генерация выборок и расчет доверительных интервалов\n",
    "results_25 = np.zeros((num_samples, 2))\n",
    "for i in range(num_samples):\n",
    "    X, Y = generate_samples()\n",
    "    results_25[i] = compute_CI(X, Y)\n",
    "\n",
    "n = 10000\n",
    "m = 10000\n",
    "results_10000 = np.zeros((num_samples, 2))\n",
    "for i in range(num_samples):\n",
    "    X, Y = generate_samples()\n",
    "    results_10000[i] = compute_CI(X, Y)\n",
    "\n",
    "# Проверка покрытия истинного значения параметра\n",
    "coverage_25 = np.mean((results_25[:, 0] <= tau_true) & (results_25[:, 1] >= tau_true))\n",
    "\n",
    "print(f\"Доверительный интервал уровня {1 - alpha} для n=m=25: ({results_25[:, 0].mean():.3f}, {results_25[:, 1].mean():.3f})\")\n",
    "print(f\"Покрытие истинного значения параметра для n=m=25: {coverage_25:.3f}\")\n",
    "\n",
    "coverage_10000 = np.mean((results_10000[:, 0] <= tau_true) & (results_10000[:, 1] >= tau_true))\n",
    "\n",
    "print(f\"Доверительный интервал уровня {1 - alpha} для n=m=10000: ({results_10000[:, 0].mean():.3f}, {results_10000[:, 1].mean():.3f})\")\n",
    "print(f\"Покрытие истинного значения параметра для n=m=10000: {coverage_10000:.3f}\")"
   ],
   "metadata": {
    "collapsed": false,
    "ExecuteTime": {
     "start_time": "2023-04-17T00:19:36.373716Z",
     "end_time": "2023-04-17T00:19:37.103438Z"
    }
   }
  },
  {
   "cell_type": "raw",
   "source": [
    "Задание 2.2"
   ],
   "metadata": {
    "collapsed": false
   }
  },
  {
   "cell_type": "code",
   "execution_count": 3,
   "outputs": [
    {
     "name": "stdout",
     "output_type": "stream",
     "text": [
      "Доверительный интервал уровня 0.95 для n=25: (1.466, 2.546)\n",
      "Покрытие истинного значения параметра для n=25: 0.934\n",
      "Доверительный интервал уровня 0.95 для n=10000: (1.971, 2.027)\n",
      "Покрытие истинного значения параметра для n=10000: 0.943\n"
     ]
    }
   ],
   "source": [
    "from scipy.stats import laplace\n",
    "\n",
    "# Исходные данные\n",
    "mu = 2\n",
    "alpha = 0.05\n",
    "n = 25\n",
    "count = 1000\n",
    "\n",
    "def generate_sample():\n",
    "    return laplace.rvs(loc=mu, scale=1, size=n)\n",
    "\n",
    "\n",
    "def compute_CI(sample):\n",
    "    q_alpha = norm.ppf(1 - alpha/2)\n",
    "\n",
    "    CI = (np.mean(sample) - q_alpha * np.sqrt(np.var(sample)/n),\n",
    "          np.mean(sample) + q_alpha * np.sqrt(np.var(sample)/n))\n",
    "    return CI\n",
    "\n",
    "\n",
    "# Генерация выборок и расчет доверительных интервалов\n",
    "results_25 = np.zeros((count, 2))\n",
    "for i in range(count):\n",
    "    sample = generate_sample()\n",
    "    results_25[i] = compute_CI(sample)\n",
    "\n",
    "\n",
    "n = 10000\n",
    "results_10000 = np.zeros((count, 2))\n",
    "for i in range(count):\n",
    "    sample = generate_sample()\n",
    "    results_10000[i] = compute_CI(sample)\n",
    "\n",
    "# Проверка покрытия истинного значения параметра\n",
    "coverage_25 = np.mean((results_25[:, 0] <= mu) & (results_25[:, 1] >= mu))\n",
    "\n",
    "print(f\"Доверительный интервал уровня {1 - alpha} для n=25: ({results_25[:, 0].mean():.3f}, {results_25[:, 1].mean():.3f})\")\n",
    "print(f\"Покрытие истинного значения параметра для n=25: {coverage_25:.3f}\")\n",
    "\n",
    "coverage_10000 = np.mean((results_10000[:, 0] <= mu) & (results_10000[:, 1] >= mu   ))\n",
    "\n",
    "print(f\"Доверительный интервал уровня {1 - alpha} для n=10000: ({results_10000[:, 0].mean():.3f}, {results_10000[:, 1].mean():.3f})\")\n",
    "print(f\"Покрытие истинного значения параметра для n=10000: {coverage_10000:.3f}\")"
   ],
   "metadata": {
    "collapsed": false,
    "ExecuteTime": {
     "start_time": "2023-04-17T00:19:37.107425Z",
     "end_time": "2023-04-17T00:19:37.720296Z"
    }
   }
  }
 ],
 "metadata": {
  "kernelspec": {
   "display_name": "Python 3",
   "language": "python",
   "name": "python3"
  },
  "language_info": {
   "codemirror_mode": {
    "name": "ipython",
    "version": 2
   },
   "file_extension": ".py",
   "mimetype": "text/x-python",
   "name": "python",
   "nbconvert_exporter": "python",
   "pygments_lexer": "ipython2",
   "version": "2.7.6"
  }
 },
 "nbformat": 4,
 "nbformat_minor": 0
}
